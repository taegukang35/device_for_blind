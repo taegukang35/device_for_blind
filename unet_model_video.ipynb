{
  "nbformat": 4,
  "nbformat_minor": 0,
  "metadata": {
    "colab": {
      "name": "unet_model_test.ipynb",
      "private_outputs": true,
      "provenance": [],
      "mount_file_id": "130cBNFGdYnAaWw-02gip4YVlTwEsT4qt",
      "authorship_tag": "ABX9TyMb3HLqNIpgYzHod5c/YtGr",
      "include_colab_link": true
    },
    "kernelspec": {
      "name": "python3",
      "display_name": "Python 3"
    },
    "language_info": {
      "name": "python"
    }
  },
  "cells": [
    {
      "cell_type": "markdown",
      "metadata": {
        "id": "view-in-github",
        "colab_type": "text"
      },
      "source": [
        "<a href=\"https://colab.research.google.com/github/taegukang35/rne_pj/blob/main/unet_model_video.ipynb\" target=\"_parent\"><img src=\"https://colab.research.google.com/assets/colab-badge.svg\" alt=\"Open In Colab\"/></a>"
      ]
    },
    {
      "cell_type": "code",
      "metadata": {
        "id": "E5k4ElZgtE11"
      },
      "source": [
        "import cv2\n",
        "import glob\n",
        "import os\n",
        "import numpy as np\n",
        "import matplotlib.pyplot as plt\n",
        "\n",
        "SIZE_X = 256 #Resize images (height  = X, width = Y)\n",
        "SIZE_Y = 256\n",
        "\n",
        "save_path = \"/content/drive/MyDrive/myfiles/unet_results\"\n",
        "img_path = \"/content/drive/MyDrive/datasets/school_hallway_ver2\"\n",
        "\n",
        "imgs = []\n",
        "for i in range(len(glob.glob(os.path.join(img_path,\"*.jpg\")))):\n",
        "    img = cv2.imread(os.path.join(img_path,'{0}.jpg'.format(i)))\n",
        "    print(i)\n",
        "    imgs.append(img)"
      ],
      "execution_count": null,
      "outputs": []
    },
    {
      "cell_type": "code",
      "metadata": {
        "id": "rjzpjB1t0jVY"
      },
      "source": [
        "from keras.models import Model, load_model\n",
        "from keras.layers import Input\n",
        "from keras.layers.core import Dropout, Lambda\n",
        "from keras.layers.convolutional import Conv2D, Conv2DTranspose\n",
        "from keras.layers.pooling import MaxPooling2D\n",
        "from keras.layers.merge import concatenate\n",
        "from keras.callbacks import EarlyStopping, ModelCheckpoint\n",
        "from keras import backend as K\n",
        "\n",
        "import tensorflow as tf"
      ],
      "execution_count": null,
      "outputs": []
    },
    {
      "cell_type": "code",
      "metadata": {
        "id": "snYHZ0e90zIj"
      },
      "source": [
        "model = load_model('/content/hallway_unet_test.h5')"
      ],
      "execution_count": null,
      "outputs": []
    },
    {
      "cell_type": "code",
      "metadata": {
        "id": "3Yx9kp495pIi"
      },
      "source": [
        "images = np.array(imgs)"
      ],
      "execution_count": null,
      "outputs": []
    },
    {
      "cell_type": "code",
      "metadata": {
        "id": "CUxcUv-x6TB0"
      },
      "source": [
        "images.shape"
      ],
      "execution_count": null,
      "outputs": []
    },
    {
      "cell_type": "code",
      "metadata": {
        "id": "n0zr2NtO6ToL"
      },
      "source": [
        "def plot_results(i,img):\n",
        "    img = cv2.resize(img, (SIZE_Y, SIZE_X))\n",
        "    img = cv2.cvtColor(img, cv2.COLOR_RGB2BGR)\n",
        "    fig = plt.figure()     \n",
        "    rows = 1\n",
        "    cols = 2\n",
        "    ax1 = fig.add_subplot(rows, cols, 1)\n",
        "    ax1.imshow(img)\n",
        "    ax1.set_title('image')\n",
        "    ax1.axis(\"off\")\n",
        "    img = np.asarray(img).astype('float32')\n",
        "    img = np.expand_dims(img,axis=0)\n",
        "    mask = model.predict(img)\n",
        "    ax2 = fig.add_subplot(rows, cols, 2)\n",
        "    ax2.imshow(mask[0][:,:,0])\n",
        "    ax2.set_title('mask')\n",
        "    ax2.axis(\"off\")\n",
        "    plt.savefig('/content/model_result/result{0}.png'.format(i))"
      ],
      "execution_count": null,
      "outputs": []
    },
    {
      "cell_type": "code",
      "metadata": {
        "id": "Z7d_prbi6abM"
      },
      "source": [
        "for i in range(len(glob.glob(os.path.join(img_path,\"*.jpg\")))):\n",
        "    plot_results(i,images[i])"
      ],
      "execution_count": null,
      "outputs": []
    },
    {
      "cell_type": "code",
      "metadata": {
        "id": "pyw74QPt7giT"
      },
      "source": [
        "import cv2\n",
        "import numpy as np\n",
        "import glob\n",
        " \n",
        "img_array = []\n",
        "for i in range(len(glob.glob(os.path.join(img_path,\"*.jpg\")))):\n",
        "    filename = '/content/model_result/result{0}.png'.format(i)\n",
        "    img = cv2.imread(filename)\n",
        "    height, width, layers = img.shape\n",
        "    size = (width,height)\n",
        "    img_array.append(img)\n",
        " \n",
        " \n",
        "out = cv2.VideoWriter('project.avi',cv2.VideoWriter_fourcc(*'DIVX'), 6, size)\n",
        " \n",
        "for i in range(len(img_array)):\n",
        "    out.write(img_array[i])\n",
        "out.release()"
      ],
      "execution_count": null,
      "outputs": []
    },
    {
      "cell_type": "code",
      "metadata": {
        "id": "WtTEW39LGoEu"
      },
      "source": [
        ""
      ],
      "execution_count": null,
      "outputs": []
    }
  ]
}